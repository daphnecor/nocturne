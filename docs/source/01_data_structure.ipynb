{
 "cells": [
  {
   "attachments": {},
   "cell_type": "markdown",
   "metadata": {},
   "source": [
    "## Data format of a traffic scene\n",
    "\n",
    "This notebook dives into the data format used to create simulations in Nocturne.\n",
    "\n",
    "_Last update: April 2023_"
   ]
  },
  {
   "cell_type": "code",
   "execution_count": null,
   "metadata": {},
   "outputs": [],
   "source": [
    "import json\n",
    "\n",
    "import matplotlib.pyplot as plt\n",
    "import pandas as pd\n",
    "import seaborn as sns\n",
    "\n",
    "cmap = ['r', 'g', 'b', 'y', 'c']\n",
    "%config InlineBackend.figure_format = 'svg'\n",
    "sns.set('notebook', font_scale=1.1, rc={'figure.figsize': (8, 3)})\n",
    "sns.set_style('ticks', rc={'figure.facecolor': 'none', 'axes.facecolor': 'none'})"
   ]
  },
  {
   "attachments": {},
   "cell_type": "markdown",
   "metadata": {},
   "source": [
    "Traffic scenes are constructed by utilizing the Waymo Open Motion dataset. Though every scene is unique, they all have the same basic data structure. \n",
    "\n",
    "To load a traffic scene:"
   ]
  },
  {
   "cell_type": "code",
   "execution_count": null,
   "metadata": {},
   "outputs": [],
   "source": [
    "# Take an example scene\n",
    "data_path = 'data/example_scenario.json'\n",
    "\n",
    "with open(data_path) as file:\n",
    "    traffic_scene = json.load(file)\n",
    "\n",
    "traffic_scene.keys()"
   ]
  },
  {
   "attachments": {},
   "cell_type": "markdown",
   "metadata": {},
   "source": [
    "### Global Overview \n",
    "A traffic scene consists of:\n",
    "- `name`: the name of the traffic scenario.\n",
    "- `objects`: the road objects or moving vehicles in the scene.\n",
    "- `roads`: the road points in the scene, these are all the stationary objects.\n",
    "- `tl_states`: the states of the traffic lights, which are filtered out for now. "
   ]
  },
  {
   "cell_type": "code",
   "execution_count": null,
   "metadata": {},
   "outputs": [],
   "source": [
    "traffic_scene['tl_states']"
   ]
  },
  {
   "cell_type": "code",
   "execution_count": null,
   "metadata": {},
   "outputs": [],
   "source": [
    "traffic_scene['name']"
   ]
  },
  {
   "cell_type": "code",
   "execution_count": null,
   "metadata": {},
   "outputs": [],
   "source": [
    "pd.Series(\n",
    "    [\n",
    "        traffic_scene['objects'][idx]['type']\n",
    "        for idx in range(len(traffic_scene['objects']))\n",
    "    ]\n",
    ").value_counts().plot(kind='bar', rot=45, color=cmap)\n",
    "plt.title(f'Distribution of road objects in traffic scene. Total # objects: {len(traffic_scene[\"objects\"])}')"
   ]
  },
  {
   "attachments": {},
   "cell_type": "markdown",
   "metadata": {},
   "source": [
    "This traffic scenario only contains vehicles and pedestrians, some scenes have cyclists as well."
   ]
  },
  {
   "cell_type": "code",
   "execution_count": null,
   "metadata": {},
   "outputs": [],
   "source": [
    "pd.Series(\n",
    "    [\n",
    "        traffic_scene['roads'][idx]['type']\n",
    "        for idx in range(len(traffic_scene['roads']))\n",
    "    ]\n",
    ").value_counts().plot(kind='bar', rot=45, color=cmap)\n",
    "plt.title(f'Distribution of road points in traffic scene. Total # points: {len(traffic_scene[\"roads\"])}')"
   ]
  },
  {
   "attachments": {},
   "cell_type": "markdown",
   "metadata": {},
   "source": [
    "### In-Depth: Road Objects\n",
    "\n",
    "This is a list of different road objects in the traffic scene. For each road object, we have information about its position, velocity, size, in which direction its heading, whether its a valid object, the type, and the final position of the vehicle."
   ]
  },
  {
   "cell_type": "code",
   "execution_count": null,
   "metadata": {},
   "outputs": [],
   "source": [
    "# Take the first object\n",
    "idx = 0\n",
    "\n",
    "# For each object, we have this information:\n",
    "traffic_scene['objects'][idx].keys()"
   ]
  },
  {
   "cell_type": "code",
   "execution_count": null,
   "metadata": {},
   "outputs": [],
   "source": [
    "# Position contains the (x, y) coordinates for the vehicle at every time step\n",
    "print(json.dumps(traffic_scene['objects'][idx]['position'][:10], indent=4))"
   ]
  },
  {
   "cell_type": "code",
   "execution_count": null,
   "metadata": {},
   "outputs": [],
   "source": [
    "# Width and length together make the size of the object, and is used to see if there is a collision\n",
    "traffic_scene['objects'][idx]['width'], traffic_scene['objects'][idx]['length']"
   ]
  },
  {
   "attachments": {},
   "cell_type": "markdown",
   "metadata": {},
   "source": [
    "Heading is the direction in which the vehicle is pointing. Since the scene is constructed from an ego driver's view, there are timepoints when we don't have access to the heading of some vehicles. States that were not observed are given with `-10_000` to indicate steps that should be filtered out."
   ]
  },
  {
   "cell_type": "code",
   "execution_count": null,
   "metadata": {},
   "outputs": [],
   "source": [
    "# Heading is the direction in which the vehicle is pointing\n",
    "plt.plot(traffic_scene['objects'][idx]['heading'])\n",
    "plt.xlabel('Time step')\n",
    "plt.ylabel('Heading')"
   ]
  },
  {
   "cell_type": "code",
   "execution_count": null,
   "metadata": {},
   "outputs": [],
   "source": [
    "# Velocity shows the velocity in the x- and y- directions\n",
    "print(json.dumps(traffic_scene['objects'][idx]['velocity'][:10], indent=4))"
   ]
  },
  {
   "cell_type": "code",
   "execution_count": null,
   "metadata": {},
   "outputs": [],
   "source": [
    "# Valid indicates if the state of the vehicle was observed for each timepoint\n",
    "plt.xlabel('Time step')\n",
    "plt.ylabel('IS VALID')\n",
    "plt.plot(traffic_scene['objects'][idx]['valid'], '_', lw=5)"
   ]
  },
  {
   "cell_type": "code",
   "execution_count": null,
   "metadata": {},
   "outputs": [],
   "source": [
    "# Each object has a goalPosition, an (x, y) position within the scene\n",
    "traffic_scene['objects'][idx]['goalPosition']"
   ]
  },
  {
   "cell_type": "code",
   "execution_count": null,
   "metadata": {},
   "outputs": [],
   "source": [
    "# Finally, we have the type of the vehicle\n",
    "traffic_scene['objects'][idx]['type']"
   ]
  },
  {
   "attachments": {},
   "cell_type": "markdown",
   "metadata": {},
   "source": [
    "### In-Depth: Road Points\n",
    "\n",
    "Road points are static objects in the scene."
   ]
  },
  {
   "cell_type": "code",
   "execution_count": null,
   "metadata": {},
   "outputs": [],
   "source": [
    "traffic_scene['roads'][idx].keys()"
   ]
  },
  {
   "cell_type": "code",
   "execution_count": null,
   "metadata": {},
   "outputs": [],
   "source": [
    "# This point represents the edge of a road\n",
    "traffic_scene['roads'][idx]['type']"
   ]
  },
  {
   "cell_type": "code",
   "execution_count": null,
   "metadata": {},
   "outputs": [],
   "source": [
    "# Geometry contains the (x, y) position(s) for a road point\n",
    "# Note that this will be a list for road lanes and edges but a single (x, y) tuple for stop signs and alike\n",
    "print(json.dumps(traffic_scene['roads'][idx]['geometry'][:10], indent=4))"
   ]
  }
 ],
 "metadata": {
  "kernelspec": {
   "display_name": "nocturne-research",
   "language": "python",
   "name": "python3"
  },
  "language_info": {
   "codemirror_mode": {
    "name": "ipython",
    "version": 3
   },
   "file_extension": ".py",
   "mimetype": "text/x-python",
   "name": "python",
   "nbconvert_exporter": "python",
   "pygments_lexer": "ipython3",
   "version": "3.8.16"
  }
 },
 "nbformat": 4,
 "nbformat_minor": 2
}
